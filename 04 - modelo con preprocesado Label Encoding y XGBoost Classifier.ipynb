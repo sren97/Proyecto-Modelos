{
  "nbformat": 4,
  "nbformat_minor": 0,
  "metadata": {
    "colab": {
      "provenance": [],
      "collapsed_sections": [
        "XIo59no_fTMg",
        "HDWJak8d1VV6",
        "0gxSYAtdCdli",
        "_ES11NQExBaY",
        "q-uV-RDXcUgC",
        "MAI_bdbr5iSZ",
        "27ZO522WgNIH",
        "QM6HpKc9gRnN",
        "fvSAQXUkgUyV",
        "sgiGQfkCga5_",
        "vXB52bNlge09",
        "YbfjjTU2a2hM",
        "1EfOSDASp2G9",
        "jd6f5tcNt3f3",
        "dJwF8ZTIyjIP"
      ],
      "include_colab_link": true
    },
    "kernelspec": {
      "name": "python3",
      "display_name": "Python 3"
    },
    "language_info": {
      "name": "python"
    }
  },
  "cells": [
    {
      "cell_type": "markdown",
      "metadata": {
        "id": "view-in-github",
        "colab_type": "text"
      },
      "source": [
        "<a href=\"https://colab.research.google.com/github/sren97/Proyecto-Modelos/blob/main/04%20-%20modelo%20con%20preprocesado%20Label%20Encoding%20y%20XGBoost%20Classifier.ipynb\" target=\"_parent\"><img src=\"https://colab.research.google.com/assets/colab-badge.svg\" alt=\"Open In Colab\"/></a>"
      ]
    },
    {
      "cell_type": "code",
      "source": [
        "import pandas as pd\n",
        "import seaborn as sns\n",
        "import numpy as np\n",
        "import matplotlib.pyplot as plt\n",
        "import os"
      ],
      "metadata": {
        "id": "rFj6sRBfSeqz"
      },
      "execution_count": null,
      "outputs": []
    },
    {
      "cell_type": "markdown",
      "source": [
        "# **Interacción con los Archivos**"
      ],
      "metadata": {
        "id": "XIo59no_fTMg"
      }
    },
    {
      "cell_type": "markdown",
      "source": [
        "## **Descargar archivos CSV**\n",
        "\n",
        "Con este código se descargan los archivos directamente desde la plataforma Kaggle mediante la API"
      ],
      "metadata": {
        "id": "HDWJak8d1VV6"
      }
    },
    {
      "cell_type": "code",
      "execution_count": null,
      "metadata": {
        "colab": {
          "base_uri": "https://localhost:8080/"
        },
        "id": "z6MwmQHcOMwz",
        "outputId": "307d7fa3-4528-421b-c817-3334178daef7"
      },
      "outputs": [
        {
          "output_type": "stream",
          "name": "stdout",
          "text": [
            "Downloading udea-ai4eng-20242.zip to /content\n",
            " 25% 5.00M/20.1M [00:00<00:00, 46.6MB/s]\n",
            "100% 20.1M/20.1M [00:00<00:00, 125MB/s] \n"
          ]
        }
      ],
      "source": [
        "os.environ['KAGGLE_CONFIG_DIR'] = '.'\n",
        "!chmod 600 ./kaggle.json\n",
        "!kaggle competitions download -c udea-ai4eng-20242"
      ]
    },
    {
      "cell_type": "markdown",
      "source": [
        "## **Descomprimir los archivos**"
      ],
      "metadata": {
        "id": "gexsxEEe2hBD"
      }
    },
    {
      "cell_type": "code",
      "source": [
        "!unzip udea*.zip > /dev/null"
      ],
      "metadata": {
        "id": "k0B74ElXQj3K"
      },
      "execution_count": null,
      "outputs": []
    },
    {
      "cell_type": "code",
      "source": [
        "!wc *.csv"
      ],
      "metadata": {
        "colab": {
          "base_uri": "https://localhost:8080/"
        },
        "id": "crXHXO_4QlDZ",
        "outputId": "4b0c48b6-ae23-4cc7-bc7c-914b3073c8be"
      },
      "execution_count": null,
      "outputs": [
        {
          "output_type": "stream",
          "name": "stdout",
          "text": [
            "   296787    296787   4716673 submission_example.csv\n",
            "   296787   4565553  50135751 test.csv\n",
            "   692501  10666231 118025055 train.csv\n",
            "  1286075  15528571 172877479 total\n"
          ]
        }
      ]
    },
    {
      "cell_type": "markdown",
      "source": [
        "#**Cargar archivos como Dataframes**"
      ],
      "metadata": {
        "id": "0gxSYAtdCdli"
      }
    },
    {
      "cell_type": "code",
      "source": [
        "train_df = pd.read_csv('train.csv')\n",
        "test_df = pd.read_csv('test.csv')\n",
        "auxiliar_df = train_df.copy()"
      ],
      "metadata": {
        "id": "YMTXqq2CQvBy"
      },
      "execution_count": null,
      "outputs": []
    },
    {
      "cell_type": "code",
      "source": [
        "train_df.columns"
      ],
      "metadata": {
        "colab": {
          "base_uri": "https://localhost:8080/"
        },
        "id": "CeLvwczgq1Ru",
        "outputId": "5bba5779-3c3b-45f1-d545-455ecc0cad4d"
      },
      "execution_count": null,
      "outputs": [
        {
          "output_type": "execute_result",
          "data": {
            "text/plain": [
              "Index(['ID', 'PERIODO', 'ESTU_PRGM_ACADEMICO', 'ESTU_PRGM_DEPARTAMENTO',\n",
              "       'ESTU_VALORMATRICULAUNIVERSIDAD', 'ESTU_HORASSEMANATRABAJA',\n",
              "       'FAMI_ESTRATOVIVIENDA', 'FAMI_TIENEINTERNET', 'FAMI_EDUCACIONPADRE',\n",
              "       'FAMI_EDUCACIONMADRE', 'ESTU_PAGOMATRICULAPROPIO',\n",
              "       'RENDIMIENTO_GLOBAL'],\n",
              "      dtype='object')"
            ]
          },
          "metadata": {},
          "execution_count": 6
        }
      ]
    },
    {
      "cell_type": "markdown",
      "source": [
        "# **Limpieza de Datos**\n"
      ],
      "metadata": {
        "id": "ZrpICQLg5PzS"
      }
    },
    {
      "cell_type": "markdown",
      "source": [
        "## **Funciones de Limpieza**"
      ],
      "metadata": {
        "id": "Bz_moOcjarYy"
      }
    },
    {
      "cell_type": "markdown",
      "source": [
        "### **Rendimiento Global**"
      ],
      "metadata": {
        "id": "_ES11NQExBaY"
      }
    },
    {
      "cell_type": "code",
      "source": [
        "def rendimientoglobal(df):\n",
        "  map_dict = {\n",
        "    \"alto\":3,\n",
        "    \"medio-alto\":2,\n",
        "    \"medio-bajo\":1,\n",
        "    \"bajo\": 0\n",
        "  }\n",
        "  df['RENDIMIENTO_GLOBAL'] = df['RENDIMIENTO_GLOBAL'].map(map_dict)"
      ],
      "metadata": {
        "id": "HGlrCMXyxEjL"
      },
      "execution_count": null,
      "outputs": []
    },
    {
      "cell_type": "markdown",
      "source": [
        "### **Rendimiento Global Reverso**"
      ],
      "metadata": {
        "id": "q-uV-RDXcUgC"
      }
    },
    {
      "cell_type": "code",
      "source": [
        "def rendimientoglobalreverse(df):\n",
        "  df['RENDIMIENTO_GLOBAL'] = df['RENDIMIENTO_GLOBAL'].round().astype(int)\n",
        "  map_dict = {\n",
        "    3:\"alto\",\n",
        "    2:\"medio-alto\",\n",
        "    1:\"medio-bajo\",\n",
        "    0:\"bajo\"\n",
        "  }\n",
        "  df['RENDIMIENTO_GLOBAL'] = df['RENDIMIENTO_GLOBAL'].map(map_dict)"
      ],
      "metadata": {
        "id": "7_l39MTtdF21"
      },
      "execution_count": null,
      "outputs": []
    },
    {
      "cell_type": "markdown",
      "source": [
        "### **Estrato**"
      ],
      "metadata": {
        "id": "MAI_bdbr5iSZ"
      }
    },
    {
      "cell_type": "code",
      "source": [
        "def estrato(df):\n",
        "  map_dict = {\n",
        "    'Estrato 1': 1,\n",
        "    'Estrato 2': 3,\n",
        "    'Estrato 3': 4,\n",
        "    'Estrato 4': 5,\n",
        "    'Estrato 5': 6,\n",
        "    'Estrato 6': 7,\n",
        "    'Sin Estrato': 2\n",
        "  }\n",
        "  df['FAMI_ESTRATOVIVIENDA'] = df['FAMI_ESTRATOVIVIENDA'].map(map_dict)\n",
        "  moda = df['FAMI_ESTRATOVIVIENDA'].mode()[0]\n",
        "  # Función para generar valores aleatorios con la misma media y desviación estándar\n",
        "  def generar_valores(row):\n",
        "      if pd.isna(row):  # Si el valor es nulo\n",
        "          return moda\n",
        "      return row\n",
        "\n",
        "    # Aplicar la función para sustituir los valores nulos con una distribución normal equivalente\n",
        "  df['FAMI_ESTRATOVIVIENDA'] = df['FAMI_ESTRATOVIVIENDA'].apply(generar_valores)\n"
      ],
      "metadata": {
        "id": "oSgEfg9d5h1K"
      },
      "execution_count": null,
      "outputs": []
    },
    {
      "cell_type": "markdown",
      "source": [
        "### **Internet**"
      ],
      "metadata": {
        "id": "27ZO522WgNIH"
      }
    },
    {
      "cell_type": "code",
      "source": [
        "#NUEVO - la probabilidad no es una constante, es el promedio de personas que dijieron que si\n",
        "import random\n",
        "def internet(df):\n",
        "  map_dict = {\n",
        "    'Si': 1,\n",
        "    'No': 0,\n",
        "  }\n",
        "  df['FAMI_TIENEINTERNET'] = df['FAMI_TIENEINTERNET'].map(map_dict)\n",
        "  percent=np.round(df['FAMI_TIENEINTERNET'].mean(),4)\n",
        "\n",
        "  def assign_value(row):\n",
        "    est_value=row['FAMI_ESTRATOVIVIENDA']\n",
        "    if pd.isnull(row['FAMI_TIENEINTERNET']):\n",
        "        if est_value > 2:\n",
        "            return 1\n",
        "        elif np.round(random.random(),4) <= percent:\n",
        "            return 1\n",
        "        else:\n",
        "            return 0\n",
        "    else:\n",
        "        return row['FAMI_TIENEINTERNET']\n",
        "\n",
        "  df['FAMI_TIENEINTERNET'] = df.apply(assign_value, axis=1)"
      ],
      "metadata": {
        "id": "52wExTeylhEg"
      },
      "execution_count": null,
      "outputs": []
    },
    {
      "cell_type": "markdown",
      "source": [
        "### **Matricula Propia**"
      ],
      "metadata": {
        "id": "QM6HpKc9gRnN"
      }
    },
    {
      "cell_type": "code",
      "source": [
        "def matriculapropia(df):\n",
        "\n",
        "    # Agrupar por departamento y calcular la media y desviación estándar del rendimiento global\n",
        "    res_mean = auxiliar_df.groupby('ESTU_PAGOMATRICULAPROPIO')[\"RENDIMIENTO_GLOBAL\"].mean()\n",
        "    res_std = auxiliar_df.groupby('ESTU_PAGOMATRICULAPROPIO')[\"RENDIMIENTO_GLOBAL\"].std()\n",
        "\n",
        "    # Mapear los resultados en el DataFrame\n",
        "    df['ESTU_PAGOMATRICULAPROPIO'] = df['ESTU_PAGOMATRICULAPROPIO'].map(res_mean)\n",
        "\n",
        "    # Función para generar valores aleatorios con la misma media y desviación estándar\n",
        "    def generar_valores_normales(row):\n",
        "        if pd.isna(row):  # Si el valor es nulo\n",
        "            mean = res_mean.mean()\n",
        "            std = res_std.mean()\n",
        "            return np.random.normal(mean, std)\n",
        "        return row\n",
        "\n",
        "    # Aplicar la función para sustituir los valores nulos con una distribución normal equivalente\n",
        "    df['ESTU_PAGOMATRICULAPROPIO'] = df['ESTU_PAGOMATRICULAPROPIO'].apply(generar_valores_normales)\n"
      ],
      "metadata": {
        "id": "K-BZtxBYpkzg"
      },
      "execution_count": null,
      "outputs": []
    },
    {
      "cell_type": "markdown",
      "source": [
        "### **Horas que Trabaja**"
      ],
      "metadata": {
        "id": "fvSAQXUkgUyV"
      }
    },
    {
      "cell_type": "code",
      "source": [
        "def horassemanatrabaja(df):\n",
        "  map_dict = {\n",
        "    '0': 5,\n",
        "    'Entre 11 y 20 horas': 3,\n",
        "    'Entre 21 y 30 horas': 2,\n",
        "    'Menos de 10 horas': 4,\n",
        "    'Más de 30 horas': 1\n",
        "  }\n",
        "  df['ESTU_HORASSEMANATRABAJA'] = df['ESTU_HORASSEMANATRABAJA'].map(map_dict)\n",
        "  moda = df['ESTU_HORASSEMANATRABAJA'].mode()[0]\n",
        "\n",
        "  # Función para generar valores aleatorios con la misma media y desviación estándar\n",
        "  def generar_valores(row):\n",
        "      if pd.isna(row):  # Si el valor es nulo\n",
        "          return moda\n",
        "      return row\n",
        "\n",
        "    # Aplicar la función para sustituir los valores nulos con una distribución normal equivalente\n",
        "  df['ESTU_HORASSEMANATRABAJA'] = df['ESTU_HORASSEMANATRABAJA'].apply(generar_valores)"
      ],
      "metadata": {
        "id": "m5zHHQ1pC9_Z"
      },
      "execution_count": null,
      "outputs": []
    },
    {
      "cell_type": "markdown",
      "source": [
        "### **Valor de la Matricula**"
      ],
      "metadata": {
        "id": "sgiGQfkCga5_"
      }
    },
    {
      "cell_type": "code",
      "source": [
        "def valormatriculauniversidad(df):\n",
        "  map_dict = {\n",
        "    'Entre 1 millón y menos de 2.5 millones': 1,\n",
        "    'Entre 2.5 millones y menos de 4 millones': 2,\n",
        "    'Entre 4 millones y menos de 5.5 millones': 6,\n",
        "    'Entre 5.5 millones y menos de 7 millones': 7,\n",
        "    'Entre 500 mil y menos de 1 millón': 3,\n",
        "    'Menos de 500 mil': 5,\n",
        "    'Más de 7 millones': 8,\n",
        "    'No pagó matrícula': 4\n",
        "  }\n",
        "  df['ESTU_VALORMATRICULAUNIVERSIDAD'] = df['ESTU_VALORMATRICULAUNIVERSIDAD'].map(map_dict)\n",
        "  moda = df['ESTU_VALORMATRICULAUNIVERSIDAD'].mode()[0]\n",
        "  # Función para generar valores aleatorios con la misma media y desviación estándar\n",
        "  def generar_valores(row):\n",
        "      if pd.isna(row):  # Si el valor es nulo\n",
        "          return moda\n",
        "      return row\n",
        "\n",
        "    # Aplicar la función para sustituir los valores nulos con una distribución normal equivalente\n",
        "  df['ESTU_VALORMATRICULAUNIVERSIDAD'] = df['ESTU_VALORMATRICULAUNIVERSIDAD'].apply(generar_valores)"
      ],
      "metadata": {
        "id": "XfyMyxvCDJCb"
      },
      "execution_count": null,
      "outputs": []
    },
    {
      "cell_type": "markdown",
      "source": [
        "### **Educación de Padre**"
      ],
      "metadata": {
        "id": "vXB52bNlge09"
      }
    },
    {
      "cell_type": "code",
      "source": [
        "def educacionpadre(df):\n",
        "  map_dict = {\n",
        "    'Educación profesional completa': 11,\n",
        "    'Educación profesional incompleta': 10,\n",
        "    'Ninguno': 1,\n",
        "    'No Aplica': 7,\n",
        "    'No sabe': 9,\n",
        "    'Postgrado': 12,\n",
        "    'Primaria completa': 3,\n",
        "    'Primaria incompleta': 2,\n",
        "    'Secundaria (Bachillerato) completa': 6,\n",
        "    'Secundaria (Bachillerato) incompleta': 4,\n",
        "    'Técnica o tecnológica completa': 8,\n",
        "    'Técnica o tecnológica incompleta': 5\n",
        "}\n",
        "  df['FAMI_EDUCACIONPADRE'] = df['FAMI_EDUCACIONPADRE'].map(map_dict)\n",
        "  moda = df['FAMI_EDUCACIONPADRE'].mode()[0]\n",
        "\n",
        "  # Función para generar valores aleatorios con la misma media y desviación estándar\n",
        "  def generar_valores(row):\n",
        "      if pd.isna(row):  # Si el valor es nulo\n",
        "          return moda\n",
        "      return row\n",
        "\n",
        "    # Aplicar la función para sustituir los valores nulos con una distribución normal equivalente\n",
        "  df['FAMI_EDUCACIONPADRE'] = df['FAMI_EDUCACIONPADRE'].apply(generar_valores)\n"
      ],
      "metadata": {
        "id": "6s7bt_wTOTga"
      },
      "execution_count": null,
      "outputs": []
    },
    {
      "cell_type": "markdown",
      "source": [
        "### **Educación de Madre**"
      ],
      "metadata": {
        "id": "YbfjjTU2a2hM"
      }
    },
    {
      "cell_type": "code",
      "source": [
        "def educacionmadre(df):\n",
        "  map_dict = {\n",
        "    'Educación profesional completa': 11,\n",
        "    'Educación profesional incompleta': 10,\n",
        "    'Ninguno': 1,\n",
        "    'No Aplica': 4,\n",
        "    'No sabe': 6,\n",
        "    'Postgrado': 12,\n",
        "    'Primaria completa': 3,\n",
        "    'Primaria incompleta': 2,\n",
        "    'Secundaria (Bachillerato) completa': 7,\n",
        "    'Secundaria (Bachillerato) incompleta': 5,\n",
        "    'Técnica o tecnológica completa': 9,\n",
        "    'Técnica o tecnológica incompleta': 8\n",
        "}\n",
        "  df['FAMI_EDUCACIONMADRE'] = df['FAMI_EDUCACIONMADRE'].map(map_dict)\n",
        "  moda = df['FAMI_EDUCACIONMADRE'].mode()[0]\n",
        "  # Función para generar valores aleatorios con la misma media y desviación estándar\n",
        "  def generar_valores(row):\n",
        "      if pd.isna(row):  # Si el valor es nulo\n",
        "          return moda\n",
        "      return row\n",
        "\n",
        "    # Aplicar la función para sustituir los valores nulos con una distribución normal equivalente\n",
        "  df['FAMI_EDUCACIONMADRE'] = df['FAMI_EDUCACIONMADRE'].apply(generar_valores)"
      ],
      "metadata": {
        "id": "3-Oy24qeRcEO"
      },
      "execution_count": null,
      "outputs": []
    },
    {
      "cell_type": "markdown",
      "source": [
        "### **Periodo**"
      ],
      "metadata": {
        "id": "1EfOSDASp2G9"
      }
    },
    {
      "cell_type": "code",
      "source": [
        "def periodo(df):\n",
        "\n",
        "  df['PERIODO'] = df['PERIODO'].astype(str)\n",
        "\n",
        "  map_dict = {\n",
        "    \"20183\": 5,\n",
        "    \"20184\": 1,\n",
        "    \"20194\": 9,\n",
        "    \"20195\": 3,\n",
        "    \"20196\": 4,\n",
        "    \"20202\": 8,\n",
        "    \"20203\": 6,\n",
        "    \"20212\": 2,\n",
        "    \"20213\": 7\n",
        "}\n",
        "  df['PERIODO'] = df['PERIODO'].map(map_dict)\n",
        "  moda = df['PERIODO'].mode()[0]\n",
        "  # Función para generar valores aleatorios con la misma media y desviación estándar\n",
        "  def generar_valores(row):\n",
        "      if pd.isna(row):  # Si el valor es nulo\n",
        "          return moda\n",
        "      return row\n",
        "\n",
        "    # Aplicar la función para sustituir los valores nulos con una distribución normal equivalente\n",
        "  df['PERIODO'] = df['PERIODO'].apply(generar_valores)"
      ],
      "metadata": {
        "id": "nmAITfmdRMQJ"
      },
      "execution_count": null,
      "outputs": []
    },
    {
      "cell_type": "markdown",
      "source": [
        "### **Departamento**"
      ],
      "metadata": {
        "id": "jd6f5tcNt3f3"
      }
    },
    {
      "cell_type": "code",
      "source": [
        "def departamento(df):\n",
        "\n",
        "    # Agrupar por departamento y calcular la media y desviación estándar del rendimiento global\n",
        "    res_mean = auxiliar_df.groupby('ESTU_PRGM_DEPARTAMENTO')[\"RENDIMIENTO_GLOBAL\"].mean()\n",
        "\n",
        "    # Mapear los resultados en el DataFrame\n",
        "    df['ESTU_PRGM_DEPARTAMENTO'] = df['ESTU_PRGM_DEPARTAMENTO'].map(res_mean)\n",
        "\n",
        "    # Función para generar valores aleatorios con la misma media y desviación estándar\n",
        "    def generar_valores_normales(row):\n",
        "        if pd.isna(row):  # Si el valor es nulo\n",
        "            mean = auxiliar_df['RENDIMIENTO_GLOBAL'].mean()\n",
        "            return mean\n",
        "        return row\n",
        "\n",
        "    # Aplicar la función para sustituir los valores nulos con una distribución normal equivalente\n",
        "    df['ESTU_PRGM_DEPARTAMENTO'] = df['ESTU_PRGM_DEPARTAMENTO'].apply(generar_valores_normales)\n"
      ],
      "metadata": {
        "id": "WOQoJ_QPlDQm"
      },
      "execution_count": null,
      "outputs": []
    },
    {
      "cell_type": "markdown",
      "source": [
        "### **Programa Acádemico**"
      ],
      "metadata": {
        "id": "dJwF8ZTIyjIP"
      }
    },
    {
      "cell_type": "code",
      "source": [
        "def programaacademico(df):\n",
        "\n",
        "    # Agrupar por departamento y calcular la media y desviación estándar del rendimiento global\n",
        "    res_mean = auxiliar_df.groupby('ESTU_PRGM_ACADEMICO')[\"RENDIMIENTO_GLOBAL\"].mean()\n",
        "\n",
        "    # Mapear los resultados en el DataFrame\n",
        "    df['ESTU_PRGM_ACADEMICO'] = df['ESTU_PRGM_ACADEMICO'].map(res_mean)\n",
        "\n",
        "    # Función para generar valores aleatorios con la misma media y desviación estándar\n",
        "    def generar_valores_normales(row):\n",
        "        if pd.isna(row):  # Si el valor es nulo\n",
        "            mean = auxiliar_df['RENDIMIENTO_GLOBAL'].mean()\n",
        "            return mean\n",
        "        return row\n",
        "\n",
        "    # Aplicar la función para sustituir los valores nulos con una distribución normal equivalente\n",
        "    df['ESTU_PRGM_ACADEMICO'] = df['ESTU_PRGM_ACADEMICO'].apply(generar_valores_normales)\n"
      ],
      "metadata": {
        "id": "yn61szWClOTl"
      },
      "execution_count": null,
      "outputs": []
    },
    {
      "cell_type": "markdown",
      "source": [
        "## **Limpieza Total**"
      ],
      "metadata": {
        "id": "5lIZFtOdz2Qq"
      }
    },
    {
      "cell_type": "code",
      "source": [
        "def limpiar_df(df, predict=False, test=False):\n",
        "  if not predict:\n",
        "    if not test:\n",
        "      rendimientoglobal(df)\n",
        "    estrato(df)\n",
        "    internet(df)\n",
        "    matriculapropia(df)\n",
        "    valormatriculauniversidad(df)\n",
        "    educacionpadre(df)\n",
        "    educacionmadre(df)\n",
        "    horassemanatrabaja(df)\n",
        "    departamento(df)\n",
        "    programaacademico(df)\n",
        "    periodo(df)\n",
        "    return df\n",
        "  elif predict:\n",
        "    rendimientoglobal(df)"
      ],
      "metadata": {
        "id": "eq-HNt1lPPD6"
      },
      "execution_count": null,
      "outputs": []
    },
    {
      "cell_type": "code",
      "source": [
        "limpiar_df(auxiliar_df, predict=True)\n",
        "train_df2 = limpiar_df(train_df)\n",
        "test_df2 = limpiar_df(test_df, test=True)"
      ],
      "metadata": {
        "id": "6LyDawtmcOUR"
      },
      "execution_count": null,
      "outputs": []
    },
    {
      "cell_type": "markdown",
      "source": [
        "# **XGBoost Classifier**"
      ],
      "metadata": {
        "id": "D5HMfZjvIEPZ"
      }
    },
    {
      "cell_type": "code",
      "source": [
        "import xgboost as xgb\n",
        "from sklearn.metrics import accuracy_score\n",
        "from sklearn.model_selection import train_test_split\n",
        "\n",
        "df = train_df2.copy()\n",
        "\n",
        "# Separar características (X) y la variable objetivo (y)\n",
        "X = df.drop(columns=[\"RENDIMIENTO_GLOBAL\",\"ID\"], axis=1)\n",
        "y = df[\"RENDIMIENTO_GLOBAL\"]\n",
        "\n",
        "# Dividir el conjunto de datos en entrenamiento y pruebas\n",
        "X_train, X_test, y_train, y_test = train_test_split(X, y, test_size=0.01, random_state=42)\n",
        "\n",
        "# Inicializar el modelo de XGBoost para clasificación\n",
        "xgb_classifier = xgb.XGBClassifier(n_estimators=350,\n",
        "                                   learning_rate=0.4,\n",
        "                                   max_depth=5,\n",
        "                                   random_state=42)\n",
        "\n",
        "# Entrenar el modelo\n",
        "xgb_classifier.fit(X_train, y_train)\n",
        "\n",
        "# Predecir los valores del conjunto de prueba\n",
        "y_pred = xgb_classifier.predict(X_test)\n",
        "\n",
        "# Evaluar la precisión del modelo\n",
        "accuracy = accuracy_score(y_test, y_pred)\n",
        "print(f'Precisión: {accuracy}')\n"
      ],
      "metadata": {
        "colab": {
          "base_uri": "https://localhost:8080/"
        },
        "id": "EviLiSCsIDFI",
        "outputId": "fad2e9ec-7d8f-4467-ebb8-59e5bb1e0808"
      },
      "execution_count": null,
      "outputs": [
        {
          "output_type": "stream",
          "name": "stdout",
          "text": [
            "Precisión: 0.44288808664259927\n"
          ]
        }
      ]
    },
    {
      "cell_type": "markdown",
      "source": [
        "# **Importancia de Columnas en XGBoost Classifier**"
      ],
      "metadata": {
        "id": "tF_SYNC0x0YU"
      }
    },
    {
      "cell_type": "code",
      "source": [
        "# Obtener las importancias de las características en el modelo de clasificación\n",
        "importances = xgb_classifier.feature_importances_\n",
        "\n",
        "# Crear un DataFrame para visualizar las importancias\n",
        "feature_names = X.columns\n",
        "feature_importances_df = pd.DataFrame({'Feature': feature_names, 'Importance': importances})\n",
        "\n",
        "# Ordenar las características por importancia\n",
        "feature_importances_df = feature_importances_df.sort_values(by='Importance', ascending=False)\n",
        "\n",
        "# Mostrar las características más importantes\n",
        "print(feature_importances_df)\n",
        "\n",
        "# Visualizar la importancia de las características\n",
        "plt.figure(figsize=(10, 6))\n",
        "plt.title(\"Importancia de las Características\")\n",
        "plt.barh(feature_importances_df['Feature'], feature_importances_df['Importance'], color='teal')\n",
        "plt.gca().invert_yaxis()\n",
        "plt.show()"
      ],
      "metadata": {
        "colab": {
          "base_uri": "https://localhost:8080/",
          "height": 736
        },
        "id": "CLWxTS8pQs-V",
        "outputId": "36f93b68-bac1-42c0-8b27-e0293f0329bf"
      },
      "execution_count": null,
      "outputs": [
        {
          "output_type": "stream",
          "name": "stdout",
          "text": [
            "                          Feature  Importance\n",
            "1             ESTU_PRGM_ACADEMICO    0.236287\n",
            "3  ESTU_VALORMATRICULAUNIVERSIDAD    0.218352\n",
            "6              FAMI_TIENEINTERNET    0.091743\n",
            "2          ESTU_PRGM_DEPARTAMENTO    0.084523\n",
            "8             FAMI_EDUCACIONMADRE    0.075052\n",
            "5            FAMI_ESTRATOVIVIENDA    0.071568\n",
            "4         ESTU_HORASSEMANATRABAJA    0.061178\n",
            "0                         PERIODO    0.060223\n",
            "7             FAMI_EDUCACIONPADRE    0.059834\n",
            "9        ESTU_PAGOMATRICULAPROPIO    0.041240\n"
          ]
        },
        {
          "output_type": "display_data",
          "data": {
            "text/plain": [
              "<Figure size 1000x600 with 1 Axes>"
            ],
            "image/png": "[encoded data removed]"
          },
          "metadata": {}
        }
      ]
    },
    {
      "cell_type": "markdown",
      "source": [
        "# **Predicción Kaggle**"
      ],
      "metadata": {
        "id": "UhzEH9TeDwhY"
      }
    },
    {
      "cell_type": "code",
      "source": [
        "df_test=test_df2.copy()\n",
        "y = df_test[\"ID\"]\n",
        "df_test.drop(columns=[\"ID\",\"Unnamed: 0\"],axis=1,inplace=True)\n",
        "predicciones = xgb_classifier.predict(df_test)\n",
        "y=pd.concat([y,pd.DataFrame(predicciones,columns=[\"RENDIMIENTO_GLOBAL\"])],axis=1)\n",
        "rendimientoglobalreverse(y)\n",
        "print(y)\n",
        "y.to_csv(\"submission.csv\",index=False)"
      ],
      "metadata": {
        "colab": {
          "base_uri": "https://localhost:8080/"
        },
        "id": "4vaeDSMmJph5",
        "outputId": "dc616234-73e1-4cb2-a92b-68d56ad6351f"
      },
      "execution_count": null,
      "outputs": [
        {
          "output_type": "stream",
          "name": "stdout",
          "text": [
            "            ID RENDIMIENTO_GLOBAL\n",
            "0       550236               bajo\n",
            "1        98545         medio-alto\n",
            "2       499179               alto\n",
            "3       782980               bajo\n",
            "4       785185               bajo\n",
            "...        ...                ...\n",
            "296781  496981         medio-bajo\n",
            "296782  209415               alto\n",
            "296783  239074         medio-alto\n",
            "296784  963852               alto\n",
            "296785  792650               alto\n",
            "\n",
            "[296786 rows x 2 columns]\n"
          ]
        }
      ]
    }
  ]
}
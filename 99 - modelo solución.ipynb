{
  "cells": [
    {
      "cell_type": "markdown",
      "metadata": {
        "id": "view-in-github",
        "colab_type": "text"
      },
      "source": [
        "<a href=\"https://colab.research.google.com/github/sren97/Proyecto-Modelos/blob/main/99%20-%20modelo%20soluci%C3%B3n.ipynb\" target=\"_parent\"><img src=\"https://colab.research.google.com/assets/colab-badge.svg\" alt=\"Open In Colab\"/></a>"
      ]
    },
    {
      "cell_type": "code",
      "execution_count": null,
      "metadata": {
        "id": "rFj6sRBfSeqz"
      },
      "outputs": [],
      "source": [
        "import pandas as pd\n",
        "import seaborn as sns\n",
        "import numpy as np\n",
        "import matplotlib.pyplot as plt\n",
        "import os"
      ]
    },
    {
      "cell_type": "markdown",
      "metadata": {
        "id": "XIo59no_fTMg"
      },
      "source": [
        "# **Interacción con los Archivos**"
      ]
    },
    {
      "cell_type": "markdown",
      "metadata": {
        "id": "HDWJak8d1VV6"
      },
      "source": [
        "## **Descargar archivos CSV**\n",
        "\n",
        "Con este código se descargan los archivos directamente desde la plataforma Kaggle mediante la API"
      ]
    },
    {
      "cell_type": "code",
      "execution_count": null,
      "metadata": {
        "colab": {
          "base_uri": "https://localhost:8080/"
        },
        "id": "z6MwmQHcOMwz",
        "outputId": "339ec74e-0fa6-4d2b-b16b-c112b7cbe9e1"
      },
      "outputs": [
        {
          "name": "stdout",
          "output_type": "stream",
          "text": [
            "Downloading udea-ai4eng-20242.zip to /content\n",
            " 25% 5.00M/20.1M [00:00<00:00, 50.2MB/s]\n",
            "100% 20.1M/20.1M [00:00<00:00, 104MB/s] \n"
          ]
        }
      ],
      "source": [
        "os.environ['KAGGLE_CONFIG_DIR'] = '.'\n",
        "!chmod 600 ./kaggle.json\n",
        "!kaggle competitions download -c udea-ai4eng-20242"
      ]
    },
    {
      "cell_type": "markdown",
      "metadata": {
        "id": "gexsxEEe2hBD"
      },
      "source": [
        "## **Descomprimir los archivos**"
      ]
    },
    {
      "cell_type": "code",
      "execution_count": null,
      "metadata": {
        "id": "k0B74ElXQj3K"
      },
      "outputs": [],
      "source": [
        "!unzip udea*.zip > /dev/null"
      ]
    },
    {
      "cell_type": "code",
      "execution_count": null,
      "metadata": {
        "colab": {
          "base_uri": "https://localhost:8080/"
        },
        "id": "crXHXO_4QlDZ",
        "outputId": "8ee9082a-c209-4aaa-bfb9-9f9f4f72fcfe"
      },
      "outputs": [
        {
          "name": "stdout",
          "output_type": "stream",
          "text": [
            "   296787    296787   4716673 submission_example.csv\n",
            "   296787   4565553  50135751 test.csv\n",
            "   692501  10666231 118025055 train.csv\n",
            "  1286075  15528571 172877479 total\n"
          ]
        }
      ],
      "source": [
        "!wc *.csv"
      ]
    },
    {
      "cell_type": "markdown",
      "metadata": {
        "id": "0gxSYAtdCdli"
      },
      "source": [
        "#**Cargar archivos como Dataframes**"
      ]
    },
    {
      "cell_type": "code",
      "execution_count": null,
      "metadata": {
        "id": "YMTXqq2CQvBy"
      },
      "outputs": [],
      "source": [
        "train_df = pd.read_csv('train.csv')\n",
        "test_df = pd.read_csv('test.csv')\n",
        "auxiliar_df = train_df.copy()"
      ]
    },
    {
      "cell_type": "code",
      "execution_count": null,
      "metadata": {
        "colab": {
          "base_uri": "https://localhost:8080/"
        },
        "id": "CeLvwczgq1Ru",
        "outputId": "1c57d6f0-6a8d-41d3-ca24-c99c7368be9f"
      },
      "outputs": [
        {
          "data": {
            "text/plain": [
              "Index(['ID', 'PERIODO', 'ESTU_PRGM_ACADEMICO', 'ESTU_PRGM_DEPARTAMENTO',\n",
              "       'ESTU_VALORMATRICULAUNIVERSIDAD', 'ESTU_HORASSEMANATRABAJA',\n",
              "       'FAMI_ESTRATOVIVIENDA', 'FAMI_TIENEINTERNET', 'FAMI_EDUCACIONPADRE',\n",
              "       'FAMI_EDUCACIONMADRE', 'ESTU_PAGOMATRICULAPROPIO',\n",
              "       'RENDIMIENTO_GLOBAL'],\n",
              "      dtype='object')"
            ]
          },
          "execution_count": 3,
          "metadata": {},
          "output_type": "execute_result"
        }
      ],
      "source": [
        "train_df.columns"
      ]
    },
    {
      "cell_type": "markdown",
      "metadata": {
        "id": "ZrpICQLg5PzS"
      },
      "source": [
        "# **Limpieza de Datos**\n"
      ]
    },
    {
      "cell_type": "markdown",
      "metadata": {
        "id": "Bz_moOcjarYy"
      },
      "source": [
        "## **Funciones de Limpieza**"
      ]
    },
    {
      "cell_type": "markdown",
      "metadata": {
        "id": "_ES11NQExBaY"
      },
      "source": [
        "### **Rendimiento Global**"
      ]
    },
    {
      "cell_type": "code",
      "execution_count": null,
      "metadata": {
        "id": "HGlrCMXyxEjL"
      },
      "outputs": [],
      "source": [
        "def rendimientoglobal(df):\n",
        "  map_dict = {\n",
        "    \"alto\":3,\n",
        "    \"medio-alto\":2,\n",
        "    \"medio-bajo\":1,\n",
        "    \"bajo\": 0\n",
        "  }\n",
        "  df['RENDIMIENTO_GLOBAL'] = df['RENDIMIENTO_GLOBAL'].map(map_dict)"
      ]
    },
    {
      "cell_type": "markdown",
      "metadata": {
        "id": "q-uV-RDXcUgC"
      },
      "source": [
        "### **Rendimiento Global Reverso**"
      ]
    },
    {
      "cell_type": "code",
      "execution_count": null,
      "metadata": {
        "id": "7_l39MTtdF21"
      },
      "outputs": [],
      "source": [
        "def rendimientoglobalreverse(df):\n",
        "  df['RENDIMIENTO_GLOBAL'] = df['RENDIMIENTO_GLOBAL'].round().astype(int)\n",
        "  map_dict = {\n",
        "    3:\"alto\",\n",
        "    2:\"medio-alto\",\n",
        "    1:\"medio-bajo\",\n",
        "    0:\"bajo\"\n",
        "  }\n",
        "  df['RENDIMIENTO_GLOBAL'] = df['RENDIMIENTO_GLOBAL'].map(map_dict)"
      ]
    },
    {
      "cell_type": "markdown",
      "metadata": {
        "id": "MAI_bdbr5iSZ"
      },
      "source": [
        "### **Estrato**"
      ]
    },
    {
      "cell_type": "code",
      "execution_count": null,
      "metadata": {
        "id": "oSgEfg9d5h1K"
      },
      "outputs": [],
      "source": [
        "def estrato(df):\n",
        "\n",
        "  moda = df['FAMI_ESTRATOVIVIENDA'].mode()[0]\n",
        "  # Función para generar valores aleatorios con la misma media y desviación estándar\n",
        "  def generar_valores(row):\n",
        "      if pd.isna(row):  # Si el valor es nulo\n",
        "          return moda\n",
        "      return row\n",
        "\n",
        "    # Aplicar la función para sustituir los valores nulos con una distribución normal equivalente\n",
        "  df['FAMI_ESTRATOVIVIENDA'] = df['FAMI_ESTRATOVIVIENDA'].apply(generar_valores)\n"
      ]
    },
    {
      "cell_type": "markdown",
      "metadata": {
        "id": "27ZO522WgNIH"
      },
      "source": [
        "### **Internet**"
      ]
    },
    {
      "cell_type": "code",
      "execution_count": null,
      "metadata": {
        "id": "52wExTeylhEg"
      },
      "outputs": [],
      "source": [
        "#NUEVO - la probabilidad no es una constante, es el promedio de personas que dijieron que si\n",
        "import random\n",
        "def internet(df):\n",
        "\n",
        "  percent = np.round(df['FAMI_TIENEINTERNET'].value_counts(normalize=True).get('Si', 0), 4)\n",
        "\n",
        "  def assign_value(row):\n",
        "    est_value=row['FAMI_ESTRATOVIVIENDA']\n",
        "    if pd.isnull(row['FAMI_TIENEINTERNET']):\n",
        "        if ((est_value != 'Sin Estrato') or (est_value != 'Estrato 1') or (est_value != 'Estrato 2')) :\n",
        "            return 'Si'\n",
        "        elif np.round(random.random(),4) <= percent:\n",
        "            return 'Si'\n",
        "        else:\n",
        "            return 'No'\n",
        "    else:\n",
        "        return row['FAMI_TIENEINTERNET']\n",
        "\n",
        "  df['FAMI_TIENEINTERNET'] = df.apply(assign_value, axis=1)"
      ]
    },
    {
      "cell_type": "markdown",
      "metadata": {
        "id": "QM6HpKc9gRnN"
      },
      "source": [
        "### **Matricula Propia**"
      ]
    },
    {
      "cell_type": "code",
      "execution_count": null,
      "metadata": {
        "id": "K-BZtxBYpkzg"
      },
      "outputs": [],
      "source": [
        "def matriculapropia(df):\n",
        "\n",
        "    # Agrupar por departamento y calcular la media y desviación estándar del rendimiento global\n",
        "    moda = df['ESTU_PAGOMATRICULAPROPIO'].mode()[0]\n",
        "\n",
        "    # Función para generar valores aleatorios con la misma media y desviación estándar\n",
        "    def generar_valores_normales(row):\n",
        "        if pd.isna(row):  # Si el valor es nulo\n",
        "            return moda\n",
        "        return row\n",
        "\n",
        "    # Aplicar la función para sustituir los valores nulos con una distribución normal equivalente\n",
        "    df['ESTU_PAGOMATRICULAPROPIO'] = df['ESTU_PAGOMATRICULAPROPIO'].apply(generar_valores_normales)\n"
      ]
    },
    {
      "cell_type": "markdown",
      "metadata": {
        "id": "fvSAQXUkgUyV"
      },
      "source": [
        "### **Horas que Trabaja**"
      ]
    },
    {
      "cell_type": "code",
      "execution_count": null,
      "metadata": {
        "id": "m5zHHQ1pC9_Z"
      },
      "outputs": [],
      "source": [
        "def horassemanatrabaja(df):\n",
        "\n",
        "  moda = df['ESTU_HORASSEMANATRABAJA'].mode()[0]\n",
        "\n",
        "  # Función para generar valores aleatorios con la misma media y desviación estándar\n",
        "  def generar_valores(row):\n",
        "      if pd.isna(row):  # Si el valor es nulo\n",
        "          return moda\n",
        "      return row\n",
        "\n",
        "    # Aplicar la función para sustituir los valores nulos con una distribución normal equivalente\n",
        "  df['ESTU_HORASSEMANATRABAJA'] = df['ESTU_HORASSEMANATRABAJA'].apply(generar_valores)"
      ]
    },
    {
      "cell_type": "markdown",
      "metadata": {
        "id": "sgiGQfkCga5_"
      },
      "source": [
        "### **Valor de la Matricula**"
      ]
    },
    {
      "cell_type": "code",
      "execution_count": null,
      "metadata": {
        "id": "XfyMyxvCDJCb"
      },
      "outputs": [],
      "source": [
        "def valormatriculauniversidad(df):\n",
        "\n",
        "  moda = df['ESTU_VALORMATRICULAUNIVERSIDAD'].mode()[0]\n",
        "  # Función para generar valores aleatorios con la misma media y desviación estándar\n",
        "  def generar_valores(row):\n",
        "      if pd.isna(row):  # Si el valor es nulo\n",
        "          return moda\n",
        "      return row\n",
        "\n",
        "    # Aplicar la función para sustituir los valores nulos con una distribución normal equivalente\n",
        "  df['ESTU_VALORMATRICULAUNIVERSIDAD'] = df['ESTU_VALORMATRICULAUNIVERSIDAD'].apply(generar_valores)"
      ]
    },
    {
      "cell_type": "markdown",
      "metadata": {
        "id": "vXB52bNlge09"
      },
      "source": [
        "### **Educación de Padre**"
      ]
    },
    {
      "cell_type": "code",
      "execution_count": null,
      "metadata": {
        "id": "6s7bt_wTOTga"
      },
      "outputs": [],
      "source": [
        "def educacionpadre(df):\n",
        "\n",
        "  moda = df['FAMI_EDUCACIONPADRE'].mode()[0]\n",
        "\n",
        "  # Función para generar valores aleatorios con la misma media y desviación estándar\n",
        "  def generar_valores(row):\n",
        "      if pd.isna(row):  # Si el valor es nulo\n",
        "          return moda\n",
        "      return row\n",
        "\n",
        "    # Aplicar la función para sustituir los valores nulos con una distribución normal equivalente\n",
        "  df['FAMI_EDUCACIONPADRE'] = df['FAMI_EDUCACIONPADRE'].apply(generar_valores)\n"
      ]
    },
    {
      "cell_type": "markdown",
      "metadata": {
        "id": "YbfjjTU2a2hM"
      },
      "source": [
        "### **Educación de Madre**"
      ]
    },
    {
      "cell_type": "code",
      "execution_count": null,
      "metadata": {
        "id": "3-Oy24qeRcEO"
      },
      "outputs": [],
      "source": [
        "def educacionmadre(df):\n",
        "\n",
        "  moda = df['FAMI_EDUCACIONMADRE'].mode()[0]\n",
        "  # Función para generar valores aleatorios con la misma media y desviación estándar\n",
        "  def generar_valores(row):\n",
        "      if pd.isna(row):  # Si el valor es nulo\n",
        "          return moda\n",
        "      return row\n",
        "\n",
        "    # Aplicar la función para sustituir los valores nulos con una distribución normal equivalente\n",
        "  df['FAMI_EDUCACIONMADRE'] = df['FAMI_EDUCACIONMADRE'].apply(generar_valores)"
      ]
    },
    {
      "cell_type": "markdown",
      "metadata": {
        "id": "1EfOSDASp2G9"
      },
      "source": [
        "### **Periodo**"
      ]
    },
    {
      "cell_type": "code",
      "execution_count": null,
      "metadata": {
        "id": "nmAITfmdRMQJ"
      },
      "outputs": [],
      "source": [
        "def periodo(df):\n",
        "\n",
        "  moda = df['PERIODO'].mode()[0]\n",
        "  # Función para generar valores aleatorios con la misma media y desviación estándar\n",
        "  def generar_valores(row):\n",
        "      if pd.isna(row):  # Si el valor es nulo\n",
        "          return moda\n",
        "      return row\n",
        "\n",
        "    # Aplicar la función para sustituir los valores nulos con una distribución normal equivalente\n",
        "  df['PERIODO'] = df['PERIODO'].apply(generar_valores)"
      ]
    },
    {
      "cell_type": "markdown",
      "metadata": {
        "id": "jd6f5tcNt3f3"
      },
      "source": [
        "### **Departamento**"
      ]
    },
    {
      "cell_type": "code",
      "execution_count": null,
      "metadata": {
        "id": "WOQoJ_QPlDQm"
      },
      "outputs": [],
      "source": [
        "def departamento(df):\n",
        "\n",
        "    # Agrupar por departamento y calcular la media y desviación estándar del rendimiento global\n",
        "    moda = df['ESTU_PRGM_DEPARTAMENTO'].mode()[0]\n",
        "\n",
        "    # Función para generar valores aleatorios con la misma media y desviación estándar\n",
        "    def generar_valores(row):\n",
        "        if pd.isna(row):  # Si el valor es nulo\n",
        "            return moda\n",
        "        return row\n",
        "\n",
        "    # Aplicar la función para sustituir los valores nulos con una distribución normal equivalente\n",
        "    df['ESTU_PRGM_DEPARTAMENTO'] = df['ESTU_PRGM_DEPARTAMENTO'].apply(generar_valores)\n"
      ]
    },
    {
      "cell_type": "markdown",
      "metadata": {
        "id": "UcWnCaeEj97n"
      },
      "source": [
        "### **Añadir Nuevas Columnas de Relación**"
      ]
    },
    {
      "cell_type": "code",
      "execution_count": null,
      "metadata": {
        "id": "hVz-7Ivhj8qA"
      },
      "outputs": [],
      "source": [
        "def nuevascolumnas(df):\n",
        "    df['RELACION_PROGRAMA_VALOR_MATRICULA'] = df.apply(lambda x: f\"{x['ESTU_PRGM_ACADEMICO']}_{x['ESTU_VALORMATRICULAUNIVERSIDAD']}\", axis=1)\n",
        "\n",
        "    df['RELACION_PROGRAMA_VALOR_MATRICULA_DEPARTAMENTO'] = df.apply(lambda x: f\"{x['ESTU_PRGM_ACADEMICO']}_{x['ESTU_VALORMATRICULAUNIVERSIDAD']}_{x['ESTU_PRGM_DEPARTAMENTO']}\", axis=1)\n",
        "\n",
        "    df['RELACION_PROGRAMA_DEPARTAMENTO'] = df.apply(lambda x: f\"{x['ESTU_PRGM_ACADEMICO']}_{x['ESTU_PRGM_DEPARTAMENTO']}\", axis=1)\n",
        "\n",
        "    df.drop(columns=['ESTU_PRGM_ACADEMICO'], inplace=True)"
      ]
    },
    {
      "cell_type": "markdown",
      "metadata": {
        "id": "dJwF8ZTIyjIP"
      },
      "source": [
        "### **Programa Acádemico**"
      ]
    },
    {
      "cell_type": "code",
      "execution_count": null,
      "metadata": {
        "id": "yn61szWClOTl"
      },
      "outputs": [],
      "source": [
        "def programaacademico(df):\n",
        "\n",
        "    # Agrupar por departamento y calcular la media y desviación estándar del rendimiento global\n",
        "    moda = df['ESTU_PRGM_ACADEMICO'].mode()[0]\n",
        "\n",
        "    # Función para generar valores aleatorios con la misma media y desviación estándar\n",
        "    def generar_valores(row):\n",
        "        if pd.isna(row):  # Si el valor es nulo\n",
        "            return moda\n",
        "        return row\n",
        "\n",
        "    # Aplicar la función para sustituir los valores nulos con una distribución normal equivalente\n",
        "    df['ESTU_PRGM_ACADEMICO'] = df['ESTU_PRGM_ACADEMICO'].apply(generar_valores)\n"
      ]
    },
    {
      "cell_type": "markdown",
      "metadata": {
        "id": "5lIZFtOdz2Qq"
      },
      "source": [
        "## **Limpieza Total**"
      ]
    },
    {
      "cell_type": "code",
      "execution_count": null,
      "metadata": {
        "id": "eq-HNt1lPPD6"
      },
      "outputs": [],
      "source": [
        "def limpiar_df(df, predict=False, test=False):\n",
        "  if not predict:\n",
        "    if not test:\n",
        "      rendimientoglobal(df)\n",
        "    estrato(df)\n",
        "    internet(df)\n",
        "    matriculapropia(df)\n",
        "    valormatriculauniversidad(df)\n",
        "    educacionpadre(df)\n",
        "    educacionmadre(df)\n",
        "    horassemanatrabaja(df)\n",
        "    departamento(df)\n",
        "    programaacademico(df)\n",
        "    periodo(df)\n",
        "    nuevascolumnas(df)\n",
        "    return df\n",
        "  elif predict:\n",
        "    rendimientoglobal(df)"
      ]
    },
    {
      "cell_type": "code",
      "execution_count": null,
      "metadata": {
        "id": "6LyDawtmcOUR"
      },
      "outputs": [],
      "source": [
        "limpiar_df(auxiliar_df, predict=True)\n",
        "train_df2 = limpiar_df(train_df)\n",
        "test_df2 = limpiar_df(test_df, test=True)"
      ]
    },
    {
      "cell_type": "markdown",
      "metadata": {
        "id": "xa9Gg5PnfxjU"
      },
      "source": [
        "# **Catboost Classifier**"
      ]
    },
    {
      "cell_type": "code",
      "execution_count": null,
      "metadata": {
        "colab": {
          "base_uri": "https://localhost:8080/"
        },
        "id": "tBLIidX9f39L",
        "outputId": "e7463117-0138-4f27-bd8c-b6cf2d64fd4e"
      },
      "outputs": [
        {
          "name": "stdout",
          "output_type": "stream",
          "text": [
            "Collecting catboost\n",
            "  Downloading catboost-1.2.7-cp310-cp310-manylinux2014_x86_64.whl.metadata (1.2 kB)\n",
            "Requirement already satisfied: graphviz in /usr/local/lib/python3.10/dist-packages (from catboost) (0.20.3)\n",
            "Requirement already satisfied: matplotlib in /usr/local/lib/python3.10/dist-packages (from catboost) (3.8.0)\n",
            "Requirement already satisfied: numpy<2.0,>=1.16.0 in /usr/local/lib/python3.10/dist-packages (from catboost) (1.26.4)\n",
            "Requirement already satisfied: pandas>=0.24 in /usr/local/lib/python3.10/dist-packages (from catboost) (2.2.2)\n",
            "Requirement already satisfied: scipy in /usr/local/lib/python3.10/dist-packages (from catboost) (1.13.1)\n",
            "Requirement already satisfied: plotly in /usr/local/lib/python3.10/dist-packages (from catboost) (5.24.1)\n",
            "Requirement already satisfied: six in /usr/local/lib/python3.10/dist-packages (from catboost) (1.16.0)\n",
            "Requirement already satisfied: python-dateutil>=2.8.2 in /usr/local/lib/python3.10/dist-packages (from pandas>=0.24->catboost) (2.8.2)\n",
            "Requirement already satisfied: pytz>=2020.1 in /usr/local/lib/python3.10/dist-packages (from pandas>=0.24->catboost) (2024.2)\n",
            "Requirement already satisfied: tzdata>=2022.7 in /usr/local/lib/python3.10/dist-packages (from pandas>=0.24->catboost) (2024.2)\n",
            "Requirement already satisfied: contourpy>=1.0.1 in /usr/local/lib/python3.10/dist-packages (from matplotlib->catboost) (1.3.1)\n",
            "Requirement already satisfied: cycler>=0.10 in /usr/local/lib/python3.10/dist-packages (from matplotlib->catboost) (0.12.1)\n",
            "Requirement already satisfied: fonttools>=4.22.0 in /usr/local/lib/python3.10/dist-packages (from matplotlib->catboost) (4.55.0)\n",
            "Requirement already satisfied: kiwisolver>=1.0.1 in /usr/local/lib/python3.10/dist-packages (from matplotlib->catboost) (1.4.7)\n",
            "Requirement already satisfied: packaging>=20.0 in /usr/local/lib/python3.10/dist-packages (from matplotlib->catboost) (24.2)\n",
            "Requirement already satisfied: pillow>=6.2.0 in /usr/local/lib/python3.10/dist-packages (from matplotlib->catboost) (11.0.0)\n",
            "Requirement already satisfied: pyparsing>=2.3.1 in /usr/local/lib/python3.10/dist-packages (from matplotlib->catboost) (3.2.0)\n",
            "Requirement already satisfied: tenacity>=6.2.0 in /usr/local/lib/python3.10/dist-packages (from plotly->catboost) (9.0.0)\n",
            "Downloading catboost-1.2.7-cp310-cp310-manylinux2014_x86_64.whl (98.7 MB)\n",
            "\u001b[2K   \u001b[90m━━━━━━━━━━━━━━━━━━━━━━━━━━━━━━━━━━━━━━━━\u001b[0m \u001b[32m98.7/98.7 MB\u001b[0m \u001b[31m8.4 MB/s\u001b[0m eta \u001b[36m0:00:00\u001b[0m\n",
            "\u001b[?25hInstalling collected packages: catboost\n",
            "Successfully installed catboost-1.2.7\n"
          ]
        }
      ],
      "source": [
        "!pip install catboost\n"
      ]
    },
    {
      "cell_type": "code",
      "execution_count": null,
      "metadata": {
        "colab": {
          "base_uri": "https://localhost:8080/"
        },
        "id": "5qP0G9K_SPJb",
        "outputId": "50e9f244-1080-4040-a543-56346027671a"
      },
      "outputs": [
        {
          "output_type": "stream",
          "name": "stdout",
          "text": [
            "0:\tlearn: 0.4007380\ttest: 0.4044415\tbest: 0.4044415 (0)\ttotal: 5.79s\tremaining: 1h 36m 28s\n",
            "100:\tlearn: 0.4380887\ttest: 0.4396216\tbest: 0.4396216 (100)\ttotal: 9m 20s\tremaining: 1h 23m 6s\n",
            "200:\tlearn: 0.4420092\ttest: 0.4435932\tbest: 0.4438235 (191)\ttotal: 19m 11s\tremaining: 1h 16m 18s\n",
            "300:\tlearn: 0.4447257\ttest: 0.4457849\tbest: 0.4457849 (300)\ttotal: 29m 10s\tremaining: 1h 7m 46s\n",
            "400:\tlearn: 0.4461590\ttest: 0.4458574\tbest: 0.4460323 (334)\ttotal: 39m 8s\tremaining: 58m 27s\n",
            "500:\tlearn: 0.4473133\ttest: 0.4465646\tbest: 0.4466812 (498)\ttotal: 49m 7s\tremaining: 48m 55s\n",
            "600:\tlearn: 0.4485849\ttest: 0.4465558\tbest: 0.4469274 (550)\ttotal: 58m 55s\tremaining: 39m 6s\n",
            "700:\tlearn: 0.4495997\ttest: 0.4468739\tbest: 0.4469443 (675)\ttotal: 1h 8m 39s\tremaining: 29m 17s\n",
            "800:\tlearn: 0.4505587\ttest: 0.4468306\tbest: 0.4469868 (768)\ttotal: 1h 18m 22s\tremaining: 19m 28s\n",
            "900:\tlearn: 0.4515377\ttest: 0.4463372\tbest: 0.4470910 (812)\ttotal: 1h 28m 7s\tremaining: 9m 40s\n",
            "999:\tlearn: 0.4525128\ttest: 0.4466690\tbest: 0.4470910 (812)\ttotal: 1h 37m 38s\tremaining: 0us\n",
            "\n",
            "bestTest = 0.4470910088\n",
            "bestIteration = 812\n",
            "\n",
            "Shrink model to first 813 iterations.\n",
            "Precisión del modelo: 0.44821660649819495\n"
          ]
        }
      ],
      "source": [
        "from catboost import CatBoostClassifier\n",
        "from sklearn.model_selection import train_test_split\n",
        "from sklearn.metrics import accuracy_score\n",
        "\n",
        "# Cargar los datos\n",
        "data = train_df2.copy()  # train_df_clean\n",
        "\n",
        "# Dividir datos en características y variable objetivo\n",
        "X = data.drop(columns=[\"ID\", \"RENDIMIENTO_GLOBAL\"])\n",
        "y = data[\"RENDIMIENTO_GLOBAL\"]\n",
        "\n",
        "categorical_features = X.select_dtypes(include=['object']).columns.tolist()\n",
        "\n",
        "# Dividir el dataset en conjuntos de entrenamiento y prueba\n",
        "X_train, X_test, y_train, y_test = train_test_split(X, y, test_size=0.1, random_state=16, stratify=y)\n",
        "\n",
        "# Crear el modelo CatBoost con bootstrap_type='Bayesian'\n",
        "model = CatBoostClassifier(\n",
        "    iterations=1000,\n",
        "    learning_rate=0.07,\n",
        "    depth=6,\n",
        "    l2_leaf_reg=3,\n",
        "    bootstrap_type='Bernoulli',\n",
        "    subsample=0.75,\n",
        "    auto_class_weights='Balanced',\n",
        "    thread_count=4,\n",
        "    verbose=100,\n",
        "    task_type='CPU',\n",
        "    eval_metric='Accuracy',\n",
        ")\n",
        "\n",
        "# Entrenar el modelo\n",
        "model.fit(X_train, y_train, eval_set=(X_test, y_test), cat_features=categorical_features, use_best_model=True)\n",
        "\n",
        "# Predecir en el conjunto de prueba\n",
        "y_pred = model.predict(X_test)\n",
        "\n",
        "# Calcular la precisión\n",
        "accuracy = accuracy_score(y_test, y_pred)\n",
        "print(f\"Precisión del modelo: {accuracy}\")"
      ]
    },
    {
      "cell_type": "markdown",
      "metadata": {
        "id": "UhzEH9TeDwhY"
      },
      "source": [
        "# **Predicción Kaggle**"
      ]
    },
    {
      "cell_type": "code",
      "execution_count": null,
      "metadata": {
        "id": "GUVDDgoddmRS"
      },
      "outputs": [],
      "source": [
        "pred=test_df2.copy()\n",
        "y = pred[\"ID\"]\n",
        "pred.drop(columns=[\"ID\",\"Unnamed: 0\"],axis=1,inplace=True)\n",
        "\n",
        "predicciones = model.predict(pred)\n",
        "sol=pd.concat([y,pd.DataFrame(predicciones,columns=[\"RENDIMIENTO_GLOBAL\"])],axis=1)\n",
        "\n",
        "rendimientoglobalreverse(sol)\n",
        "\n",
        "sol.to_csv(\"submission.csv\",index=False)"
      ]
    }
  ],
  "metadata": {
    "colab": {
      "collapsed_sections": [
        "XIo59no_fTMg",
        "HDWJak8d1VV6",
        "0gxSYAtdCdli",
        "ZrpICQLg5PzS",
        "Bz_moOcjarYy",
        "_ES11NQExBaY",
        "q-uV-RDXcUgC",
        "MAI_bdbr5iSZ",
        "27ZO522WgNIH",
        "QM6HpKc9gRnN",
        "fvSAQXUkgUyV",
        "sgiGQfkCga5_",
        "vXB52bNlge09",
        "YbfjjTU2a2hM",
        "1EfOSDASp2G9",
        "jd6f5tcNt3f3",
        "D5HMfZjvIEPZ",
        "uj7N8AVXdhsN",
        "xFNKzIzldrDY"
      ],
      "provenance": [],
      "include_colab_link": true
    },
    "kernelspec": {
      "display_name": "Python 3",
      "name": "python3"
    },
    "language_info": {
      "name": "python"
    }
  },
  "nbformat": 4,
  "nbformat_minor": 0
}